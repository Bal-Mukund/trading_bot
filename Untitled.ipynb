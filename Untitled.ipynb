{
 "cells": [
  {
   "cell_type": "code",
   "execution_count": 1,
   "id": "9f645e5f",
   "metadata": {},
   "outputs": [],
   "source": [
    "import websocket,json"
   ]
  },
  {
   "cell_type": "code",
   "execution_count": 2,
   "id": "bdf44bf6",
   "metadata": {},
   "outputs": [],
   "source": [
    "from forex_python.converter import CurrencyRates"
   ]
  },
  {
   "cell_type": "code",
   "execution_count": 3,
   "id": "f3fd6418",
   "metadata": {},
   "outputs": [],
   "source": [
    "from pymongo import MongoClient"
   ]
  },
  {
   "cell_type": "code",
   "execution_count": 4,
   "id": "edd449f5",
   "metadata": {},
   "outputs": [],
   "source": [
    "client = MongoClient()\n",
    "db = client[\"closes\"]\n",
    "colllection = db[\"bit-closes\"]"
   ]
  },
  {
   "cell_type": "code",
   "execution_count": 5,
   "id": "4b247713",
   "metadata": {},
   "outputs": [],
   "source": [
    "crypto_currency = \"btcusd\""
   ]
  },
  {
   "cell_type": "code",
   "execution_count": 6,
   "id": "be200be8",
   "metadata": {},
   "outputs": [],
   "source": [
    "socket = f\"wss://stream.binance.com:9443/ws/{crypto_currency}t@kline_1m\""
   ]
  },
  {
   "cell_type": "code",
   "execution_count": 7,
   "id": "98c00efd",
   "metadata": {},
   "outputs": [],
   "source": [
    "currency1 = \"USD\"\n",
    "currency2 = \"INR\""
   ]
  },
  {
   "cell_type": "code",
   "execution_count": 8,
   "id": "cf5e8bb4",
   "metadata": {},
   "outputs": [],
   "source": [
    "def on_open(ws):\n",
    "    print(\"connection opened\")"
   ]
  },
  {
   "cell_type": "code",
   "execution_count": 9,
   "id": "a9f206dc",
   "metadata": {},
   "outputs": [],
   "source": [
    "def on_message(ws,message):\n",
    "    global all_closes\n",
    "    global close\n",
    "    json_message = json.loads(message)\n",
    "    candle_stick = json_message[\"k\"]\n",
    "    is_close = candle_stick[\"x\"]\n",
    "    close = candle_stick[\"c\"]\n",
    "    print(close)\n",
    "\n",
    "\n",
    "    if is_close:\n",
    "        c = CurrencyRates()\n",
    "        change_rates = c.get_rate(currency1, currency2)\n",
    "        indian_price= change_rates * float(close)\n",
    "\n",
    "        print(indian_price)"
   ]
  },
  {
   "cell_type": "code",
   "execution_count": 10,
   "id": "fb527b8b",
   "metadata": {},
   "outputs": [],
   "source": [
    "def on_close(ws):\n",
    "    print(\"connection closed\")"
   ]
  },
  {
   "cell_type": "code",
   "execution_count": 12,
   "id": "bf6d5fe9",
   "metadata": {},
   "outputs": [
    {
     "ename": "AttributeError",
     "evalue": "module 'websocket' has no attribute 'WebSocketApp'",
     "output_type": "error",
     "traceback": [
      "\u001b[1;31m---------------------------------------------------------------------------\u001b[0m",
      "\u001b[1;31mAttributeError\u001b[0m                            Traceback (most recent call last)",
      "\u001b[1;32m<ipython-input-12-7bfaff22073a>\u001b[0m in \u001b[0;36m<module>\u001b[1;34m\u001b[0m\n\u001b[1;32m----> 1\u001b[1;33m \u001b[0mws\u001b[0m \u001b[1;33m=\u001b[0m \u001b[0mwebsocket\u001b[0m\u001b[1;33m.\u001b[0m\u001b[0mWebSocketApp\u001b[0m\u001b[1;33m(\u001b[0m\u001b[0msocket\u001b[0m\u001b[1;33m,\u001b[0m\u001b[0mon_open\u001b[0m\u001b[1;33m=\u001b[0m\u001b[0mon_open\u001b[0m\u001b[1;33m,\u001b[0m\u001b[0mon_message\u001b[0m\u001b[1;33m=\u001b[0m\u001b[0mon_message\u001b[0m\u001b[1;33m,\u001b[0m\u001b[0mon_close\u001b[0m\u001b[1;33m=\u001b[0m\u001b[0mon_close\u001b[0m\u001b[1;33m)\u001b[0m\u001b[1;33m\u001b[0m\u001b[1;33m\u001b[0m\u001b[0m\n\u001b[0m",
      "\u001b[1;31mAttributeError\u001b[0m: module 'websocket' has no attribute 'WebSocketApp'"
     ]
    }
   ],
   "source": [
    "ws = websocket.WebSocketApp(socket,on_open=on_open,on_message=on_message,on_close=on_close)"
   ]
  },
  {
   "cell_type": "code",
   "execution_count": null,
   "id": "0cb61a9e",
   "metadata": {},
   "outputs": [],
   "source": []
  },
  {
   "cell_type": "code",
   "execution_count": 13,
   "id": "819a8399",
   "metadata": {},
   "outputs": [
    {
     "ename": "NameError",
     "evalue": "name 'ws' is not defined",
     "output_type": "error",
     "traceback": [
      "\u001b[1;31m---------------------------------------------------------------------------\u001b[0m",
      "\u001b[1;31mNameError\u001b[0m                                 Traceback (most recent call last)",
      "\u001b[1;32m<ipython-input-13-5899039c2a7b>\u001b[0m in \u001b[0;36m<module>\u001b[1;34m\u001b[0m\n\u001b[1;32m----> 1\u001b[1;33m \u001b[0mws\u001b[0m\u001b[1;33m.\u001b[0m\u001b[0mrun_forever\u001b[0m\u001b[1;33m(\u001b[0m\u001b[1;33m)\u001b[0m\u001b[1;33m\u001b[0m\u001b[1;33m\u001b[0m\u001b[0m\n\u001b[0m",
      "\u001b[1;31mNameError\u001b[0m: name 'ws' is not defined"
     ]
    }
   ],
   "source": [
    "ws.run_forever()"
   ]
  },
  {
   "cell_type": "code",
   "execution_count": null,
   "id": "2a15e580",
   "metadata": {},
   "outputs": [],
   "source": []
  }
 ],
 "metadata": {
  "kernelspec": {
   "display_name": "Python 3",
   "language": "python",
   "name": "python3"
  },
  "language_info": {
   "codemirror_mode": {
    "name": "ipython",
    "version": 3
   },
   "file_extension": ".py",
   "mimetype": "text/x-python",
   "name": "python",
   "nbconvert_exporter": "python",
   "pygments_lexer": "ipython3",
   "version": "3.8.8"
  }
 },
 "nbformat": 4,
 "nbformat_minor": 5
}
