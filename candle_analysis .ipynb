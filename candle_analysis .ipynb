{
 "cells": [
  {
   "cell_type": "code",
   "execution_count": 2,
   "id": "64bf06af",
   "metadata": {},
   "outputs": [],
   "source": [
    "import talib"
   ]
  },
  {
   "cell_type": "code",
   "execution_count": 3,
   "id": "5a18a96e",
   "metadata": {},
   "outputs": [],
   "source": [
    "import yfinance as yf"
   ]
  },
  {
   "cell_type": "code",
   "execution_count": 4,
   "id": "b05a1259",
   "metadata": {},
   "outputs": [],
   "source": [
    "import pandas"
   ]
  },
  {
   "cell_type": "code",
   "execution_count": 5,
   "id": "2a6c47b6",
   "metadata": {},
   "outputs": [
    {
     "name": "stdout",
     "output_type": "stream",
     "text": [
      "[*********************100%***********************]  1 of 1 completed\n"
     ]
    }
   ],
   "source": [
    "data = yf.download(\"0P0000NRF7.BO\", start=\"2021-11-01\", end=\"2021-11-27\")"
   ]
  },
  {
   "cell_type": "code",
   "execution_count": 22,
   "id": "2a8d5516",
   "metadata": {},
   "outputs": [
    {
     "name": "stdout",
     "output_type": "stream",
     "text": [
      "                  Open        High         Low       Close   Adj Close  Volume\n",
      "Date                                                                          \n",
      "2020-08-05   90.288597   90.288597   90.288597   90.288597   90.288597       0\n",
      "2020-08-06   91.131599   91.131599   91.131599   91.131599   91.131599       0\n",
      "2020-08-07   91.277603   91.277603   91.277603   91.277603   91.277603       0\n",
      "2020-08-10   91.968102   91.968102   91.968102   91.968102   91.968102       0\n",
      "2020-08-11   92.340797   92.340797   92.340797   92.340797   92.340797       0\n",
      "...                ...         ...         ...         ...         ...     ...\n",
      "2021-08-31  136.960098  136.960098  136.960098  136.960098  136.960098       0\n",
      "2021-09-01  136.687500  136.687500  136.687500  136.687500  136.687500       0\n",
      "2021-09-02  137.940598  137.940598  137.940598  137.940598  137.940598       0\n",
      "2021-09-03  138.574493  138.574493  138.574493  138.574493  138.574493       0\n",
      "2021-09-06  139.083694  139.083694  139.083694  139.083694  139.083694       0\n",
      "\n",
      "[271 rows x 6 columns]\n"
     ]
    }
   ],
   "source": [
    "print(data)"
   ]
  },
  {
   "cell_type": "code",
   "execution_count": 23,
   "id": "cff22723",
   "metadata": {},
   "outputs": [],
   "source": [
    "num = talib.CDLMORNINGSTAR(data[\"Open\"], data[\"High\"], data[\"Low\"], data[\"Close\"])"
   ]
  },
  {
   "cell_type": "code",
   "execution_count": 24,
   "id": "c337d5fd",
   "metadata": {},
   "outputs": [
    {
     "name": "stdout",
     "output_type": "stream",
     "text": [
      "Date\n",
      "2020-08-05    0\n",
      "2020-08-06    0\n",
      "2020-08-07    0\n",
      "2020-08-10    0\n",
      "2020-08-11    0\n",
      "             ..\n",
      "2021-08-31    0\n",
      "2021-09-01    0\n",
      "2021-09-02    0\n",
      "2021-09-03    0\n",
      "2021-09-06    0\n",
      "Length: 271, dtype: int32\n"
     ]
    }
   ],
   "source": [
    "print(num)"
   ]
  },
  {
   "cell_type": "code",
   "execution_count": 25,
   "id": "911304e1",
   "metadata": {},
   "outputs": [
    {
     "name": "stdout",
     "output_type": "stream",
     "text": [
      "Series([], dtype: int32)\n"
     ]
    }
   ],
   "source": [
    "print(num[num != 0])"
   ]
  }
 ],
 "metadata": {
  "kernelspec": {
   "display_name": "Python 3",
   "language": "python",
   "name": "python3"
  },
  "language_info": {
   "codemirror_mode": {
    "name": "ipython",
    "version": 3
   },
   "file_extension": ".py",
   "mimetype": "text/x-python",
   "name": "python",
   "nbconvert_exporter": "python",
   "pygments_lexer": "ipython3",
   "version": "3.8.8"
  }
 },
 "nbformat": 4,
 "nbformat_minor": 5
}
